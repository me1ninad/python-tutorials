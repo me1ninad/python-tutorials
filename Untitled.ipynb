{
 "cells": [
  {
   "cell_type": "code",
   "execution_count": 1,
   "metadata": {},
   "outputs": [
    {
     "name": "stdout",
     "output_type": "stream",
     "text": [
      "5\n"
     ]
    }
   ],
   "source": [
    "a=5\n",
    "print(a)"
   ]
  },
  {
   "cell_type": "code",
   "execution_count": 10,
   "metadata": {},
   "outputs": [
    {
     "name": "stdout",
     "output_type": "stream",
     "text": [
      "[[1, 2], [2, 3]]\n",
      "[[3, 6], [7, 1]]\n",
      "[[4, 8], [9, 4]]\n"
     ]
    }
   ],
   "source": [
    "list1=[[1,2],[2,3]]\n",
    "print(list1)\n",
    "list2=[[3,6],[7,1]]\n",
    "print(list2)\n",
    "res=[[0,0],[0,0]]\n",
    "\n",
    "for i in range(len(list1)):\n",
    "        #print(i)\n",
    "        for j in range(len(list2)):\n",
    "            res[i][j]=list1[i][j]+list2[i][j]\n",
    "        \n",
    "print(res)\n",
    "        \n",
    "\n",
    "    \n",
    "   \n",
    "        \n",
    "    "
   ]
  },
  {
   "cell_type": "code",
   "execution_count": 32,
   "metadata": {},
   "outputs": [
    {
     "name": "stdout",
     "output_type": "stream",
     "text": [
      "1  2  \n",
      "2  3  \n",
      "3  6  \n",
      "7  1  \n",
      "0  0  \n",
      "0  0  \n",
      "4 8 \n",
      "9 4 \n"
     ]
    }
   ],
   "source": [
    "list1=[[1,2],[2,3]]\n",
    "for i in range(len(list1)):\n",
    "        \n",
    "        for j in range(len(list1)):\n",
    "            print(str(list1[i][j]),end='  ')\n",
    "        print()\n",
    "\n",
    "\n",
    "list2=[[3,6],[7,1]]\n",
    "for i in range(len(list2)):\n",
    "    for j in range(len(list2)):\n",
    "        print(str(list2[i][j]),end='  ')\n",
    "    print()\n",
    "\n",
    "res=[[0,0],[0,0]]\n",
    "for i in range(len(res)):\n",
    "    for j in range(len(res)):\n",
    "        print(str(res[i][j]),end='  ')\n",
    "    print()\n",
    "\n",
    "for i in range(len(list1)):\n",
    "        #print(i)\n",
    "        for j in range(len(list2)):\n",
    "            res[i][j]=list1[i][j]+list2[i][j]\n",
    "            print(str(res[i][j]),end=' ')\n",
    "        print()\n",
    "\n",
    "    \n",
    "   \n",
    "        \n",
    "    "
   ]
  },
  {
   "cell_type": "code",
   "execution_count": 37,
   "metadata": {},
   "outputs": [
    {
     "name": "stdout",
     "output_type": "stream",
     "text": [
      "[3, 3] [3, 3] \n",
      "[8, 8] [8, 8] \n",
      "[10, 10] [10, 10] \n",
      "[6, 6] [6, 6] \n"
     ]
    }
   ],
   "source": [
    "listA = [[1,2],[2,1]]\n",
    "listB = [[3,4],[5,6]]\n",
    "listC = [[0,0],[0,0]]\n",
    "\n",
    "for i in range(len(listA)):\n",
    "    for j in range(len(listB)):\n",
    "        for k in range(len(listC)):\n",
    "            listC[i][j]=[listA[i][j]*listB[i][j]]\n",
    "            print(str(listC[i][j]),end=' ')\n",
    "        print()\n",
    "        "
   ]
  },
  {
   "cell_type": "code",
   "execution_count": 39,
   "metadata": {},
   "outputs": [
    {
     "name": "stdout",
     "output_type": "stream",
     "text": [
      "b is greater\n"
     ]
    }
   ],
   "source": [
    "a=5\n",
    "b=78\n",
    "\n",
    "if a > b:\n",
    "    print(\"a is greater\")\n",
    "else: \n",
    "    print(\"b is greater\")\n"
   ]
  },
  {
   "cell_type": "code",
   "execution_count": 40,
   "metadata": {},
   "outputs": [
    {
     "name": "stdout",
     "output_type": "stream",
     "text": [
      "b is greatest\n"
     ]
    }
   ],
   "source": [
    "c=9\n",
    "\n",
    "if a > b and a > c:\n",
    "    print(\"a is greatest\")\n",
    "elif b > a and b > c:\n",
    "    print(\"b is greatest\")\n",
    "else:\n",
    "    print(\"c is greatest\")"
   ]
  },
  {
   "cell_type": "code",
   "execution_count": 8,
   "metadata": {},
   "outputs": [
    {
     "name": "stdout",
     "output_type": "stream",
     "text": [
      "True\n",
      "True\n",
      "False\n",
      "False\n",
      "False\n",
      "False\n",
      "False\n",
      "[False False False  True  True  True False]\n"
     ]
    }
   ],
   "source": [
    "import numpy as np\n",
    "marks=np.array([10,20,30,40,50,60,70])\n",
    "for i in marks:\n",
    "    print(i<30 and i<70)\n",
    "print(np.logical_and(marks>30,marks<70))"
   ]
  },
  {
   "cell_type": "code",
   "execution_count": 14,
   "metadata": {},
   "outputs": [
    {
     "name": "stdout",
     "output_type": "stream",
     "text": [
      "[False False  True  True  True False]\n"
     ]
    }
   ],
   "source": [
    "goals=np.array([3,45,23,17,23,56])\n",
    "print(np.logical_and(goals>5,goals<30))"
   ]
  },
  {
   "cell_type": "code",
   "execution_count": 6,
   "metadata": {},
   "outputs": [
    {
     "name": "stdout",
     "output_type": "stream",
     "text": [
      "Reference\n",
      "1942102    Job Failed in Stream: PMU-COMMON-DELTA : PMUAI...\n",
      "1942118    To fix Paypal Omni/Non Omni orders that came o...\n",
      "1942120                ZmEu exploit scan from 122.112.133.51\n",
      "1942148    Could you re set this customers password pleas...\n",
      "1942151    Job Failed in Stream: PMU-CHANL-D : PMUAIX-PRO...\n",
      "                                 ...                        \n",
      "1955613    Content pages and product listing pages are no...\n",
      "1955615    Please ship the attached marketplace orders in...\n",
      "1955617    Hello,\\r\\n\\r\\nCan you please adjust the thresh...\n",
      "1955662    Incident Reference P2: 1955613\\r\\n\\r\\nTo inves...\n",
      "1955667    This incident is to investigate index errors r...\n",
      "Name: Description, Length: 502, dtype: object\n"
     ]
    },
    {
     "data": {
      "text/plain": [
       "<bound method DataFrame.aggregate of                                                  Description       Category  \\\n",
       "Reference                                                                     \n",
       "1942102    Job Failed in Stream: PMU-COMMON-DELTA : PMUAI...  BATCH FAILURE   \n",
       "1942118    To fix Paypal Omni/Non Omni orders that came o...           ECOM   \n",
       "1942120                ZmEu exploit scan from 122.112.133.51           ECOM   \n",
       "1942148    Could you re set this customers password pleas...           ECOM   \n",
       "1942151    Job Failed in Stream: PMU-CHANL-D : PMUAIX-PRO...  BATCH FAILURE   \n",
       "...                                                      ...            ...   \n",
       "1955613    Content pages and product listing pages are no...           ECOM   \n",
       "1955615    Please ship the attached marketplace orders in...           ECOM   \n",
       "1955617    Hello,\\r\\n\\r\\nCan you please adjust the thresh...           ECOM   \n",
       "1955662    Incident Reference P2: 1955613\\r\\n\\r\\nTo inves...           ECOM   \n",
       "1955667    This incident is to investigate index errors r...           ECOM   \n",
       "\n",
       "           Status  Urgency                            Item  \\\n",
       "Reference                                                    \n",
       "1942102    CLOSED        3        PMUAIX-COMMON-HY-O-DELTA   \n",
       "1942118    CLOSED        3  ALL GLOBAL (PANGAEA GB4) SITES   \n",
       "1942120    CLOSED        3  ALL GLOBAL (PANGAEA GB4) SITES   \n",
       "1942148    CLOSED        3  ALL GLOBAL (PANGAEA GB4) SITES   \n",
       "1942151    CLOSED        3     PMUAIX-PROD-HY-O-CHANL-FULL   \n",
       "...           ...      ...                             ...   \n",
       "1955613    CLOSED        2                   CLARKSONE.COM   \n",
       "1955615    CLOSED        3            MARKET PLACE SITE EU   \n",
       "1955617    CLOSED        3                   CLARKSUSA.COM   \n",
       "1955662    CLOSED        3                   CLARKSONE.COM   \n",
       "1955667    CLOSED        3                   CLARKSONE.COM   \n",
       "\n",
       "                              Item B Date Logged    Date/Time Logged  \\\n",
       "Reference                                                              \n",
       "1942102                        S-SAP  2019-09-01 2019-09-01 02:06:00   \n",
       "1942118                      Z-OTHER  2019-09-01 2019-09-01 13:38:00   \n",
       "1942120                      Z-OTHER  2019-09-01 2019-09-01 14:37:00   \n",
       "1942148         EMAIL / TEXT SERVICE  2019-09-02 2019-09-02 01:50:00   \n",
       "1942151                        S-SAP  2019-09-02 2019-09-02 02:13:00   \n",
       "...                              ...         ...                 ...   \n",
       "1955613             SITE PERFORMANCE  2019-09-30 2019-09-30 17:17:00   \n",
       "1955615    ORDER MANAGEMENT / STATUS  2019-09-30 2019-09-30 17:18:00   \n",
       "1955617                      Z-OTHER  2019-09-30 2019-09-30 17:21:00   \n",
       "1955662                      Z-OTHER  2019-09-30 2019-09-30 19:41:00   \n",
       "1955667                      Z-OTHER  2019-09-30 2019-09-30 21:15:00   \n",
       "\n",
       "             SVD Resolve Date      Resolution Due  ... Resolving SVD  \\\n",
       "Reference                                          ...                 \n",
       "1942102   2019-09-01 04:39:00 2019-09-03 18:00:00  ...  ECOM SUPPORT   \n",
       "1942118   2019-09-01 13:42:00 2019-09-03 18:00:00  ...  ECOM SUPPORT   \n",
       "1942120   2019-09-01 14:40:00 2019-09-03 18:00:00  ...  ECOM SUPPORT   \n",
       "1942148   2019-09-02 05:56:00 2019-09-03 18:00:00  ...  ECOM SUPPORT   \n",
       "1942151   2019-09-02 05:11:00 2019-09-03 18:00:00  ...  ECOM SUPPORT   \n",
       "...                       ...                 ...  ...           ...   \n",
       "1955613   2019-09-30 20:18:00 2019-10-01 17:17:00  ...  ECOM SUPPORT   \n",
       "1955615   2019-09-30 23:24:00 2019-10-02 17:18:00  ...  ECOM SUPPORT   \n",
       "1955617   2019-10-01 14:23:00 2019-10-02 17:21:00  ...  ECOM SUPPORT   \n",
       "1955662   2019-10-01 15:51:00 2019-10-02 18:00:00  ...  ECOM SUPPORT   \n",
       "1955667   2019-10-04 23:08:00 2019-10-02 18:00:00  ...  ECOM SUPPORT   \n",
       "\n",
       "          Assigned User Assigned User Name                     Product  \\\n",
       "Reference                                                                \n",
       "1942102          MROHRA        Mayur Rohra              JOB HYBRIS GB2   \n",
       "1942118          SYENNA  SaiChandana Yenna  ECOM PRIMARY LOGGING ITEMS   \n",
       "1942120         AKAMATH      Akshay Kamath  ECOM PRIMARY LOGGING ITEMS   \n",
       "1942148         KSAXENA       Kriti Saxena  ECOM PRIMARY LOGGING ITEMS   \n",
       "1942151         RKHANNA     Rishabh Khanna              JOB HYBRIS GB2   \n",
       "...                 ...                ...                         ...   \n",
       "1955613         NLONDHE      Nikhil Londhe  ECOM PRIMARY LOGGING ITEMS   \n",
       "1955615        DBHALALA    Dishant Bhalala  ECOM PRIMARY LOGGING ITEMS   \n",
       "1955617         TKOTIAN      Tejesh Kotian  ECOM PRIMARY LOGGING ITEMS   \n",
       "1955662         NLONDHE      Nikhil Londhe  ECOM PRIMARY LOGGING ITEMS   \n",
       "1955667         NLONDHE      Nikhil Londhe  ECOM PRIMARY LOGGING ITEMS   \n",
       "\n",
       "            Closing SVD        Closure Date Date of Last Action  SVD Assigned  \\\n",
       "Reference                                                                       \n",
       "1942102    ECOM SUPPORT 2019-09-01 04:39:00 2019-09-01 04:39:00  ECOM SUPPORT   \n",
       "1942118    ECOM SUPPORT 2019-09-01 13:42:00 2019-09-01 13:42:00  ECOM SUPPORT   \n",
       "1942120    ECOM SUPPORT 2019-09-01 14:40:00 2019-09-01 14:40:00  ECOM SUPPORT   \n",
       "1942148    ECOM SUPPORT 2019-09-02 05:56:00 2019-09-02 05:56:00  ECOM SUPPORT   \n",
       "1942151    ECOM SUPPORT 2019-09-02 05:11:00 2019-09-02 05:11:00  ECOM SUPPORT   \n",
       "...                 ...                 ...                 ...           ...   \n",
       "1955613    ECOM SUPPORT 2019-09-30 20:18:00 2019-09-30 20:34:00  ECOM SUPPORT   \n",
       "1955615    ECOM SUPPORT 2019-09-30 23:24:00 2019-09-30 23:24:00  ECOM SUPPORT   \n",
       "1955617    ECOM SUPPORT 2019-10-01 14:23:00 2019-10-01 14:23:00  ECOM SUPPORT   \n",
       "1955662    ECOM SUPPORT 2019-10-01 15:51:00 2019-10-01 15:51:00  ECOM SUPPORT   \n",
       "1955667    ECOM SUPPORT 2019-10-04 23:08:00 2019-10-04 23:08:00  ECOM SUPPORT   \n",
       "\n",
       "          SLA Clock Stopped Affected User  \n",
       "Reference                                  \n",
       "1942102       Clock running    TIVOLI TEC  \n",
       "1942118       Clock running       AKAMATH  \n",
       "1942120       Clock running       AKAMATH  \n",
       "1942148       Clock running    MMCCARTNEY  \n",
       "1942151       Clock running    TIVOLI TEC  \n",
       "...                     ...           ...  \n",
       "1955613       Clock running       JCONATY  \n",
       "1955615       Clock running        LHYNDS  \n",
       "1955617       Clock running        AREHAL  \n",
       "1955662       Clock running         VORAM  \n",
       "1955667       Clock running         VORAM  \n",
       "\n",
       "[502 rows x 21 columns]>"
      ]
     },
     "execution_count": 6,
     "metadata": {},
     "output_type": "execute_result"
    }
   ],
   "source": [
    "import pandas as pd\n",
    "brics=pd.read_excel(\"C:/Users/baras/Desktop/All in one/study/python/report1.xlsx\",index_col=0)\n",
    "print(brics[\"Description\"])\n",
    "#pd.ExcelWriter.write_cells(\"Reference\",\"Demo\")\n",
    "brics.aggregate\n",
    "\n"
   ]
  },
  {
   "cell_type": "code",
   "execution_count": 3,
   "metadata": {},
   "outputs": [
    {
     "name": "stdout",
     "output_type": "stream",
     "text": [
      "Python 3.7.4\n"
     ]
    }
   ],
   "source": [
    "!python --version"
   ]
  },
  {
   "cell_type": "code",
   "execution_count": 19,
   "metadata": {},
   "outputs": [
    {
     "name": "stdout",
     "output_type": "stream",
     "text": [
      "1\n",
      "4\n",
      "5\n",
      "6\n",
      "7\n",
      "3\n",
      "9\n"
     ]
    }
   ],
   "source": [
    "import numpy as np\n",
    "np_family_heights = np.array([1,4,5,6,7,3,9])\n",
    "for heigth in np_family_heights:\n",
    "    print(heigth)"
   ]
  },
  {
   "cell_type": "code",
   "execution_count": 25,
   "metadata": {},
   "outputs": [
    {
     "name": "stdout",
     "output_type": "stream",
     "text": [
      "1\n",
      "4\n",
      "5\n",
      "6\n",
      "7\n",
      "3\n",
      "9\n",
      "70\n",
      "30\n",
      "12\n",
      "56\n",
      "18\n",
      "20\n",
      "21\n"
     ]
    }
   ],
   "source": [
    "np_family_weigths=np.array([70,30,12,56,18,20,21])\n",
    "np_family_heights_weigths=np.array([np_family_heights,np_family_weigths])\n",
    "\n",
    "for height in np.nditer(np_family_heights_weigths):\n",
    "    print(height)"
   ]
  },
  {
   "cell_type": "markdown",
   "metadata": {},
   "source": []
  },
  {
   "cell_type": "code",
   "execution_count": 28,
   "metadata": {},
   "outputs": [
    {
     "name": "stdout",
     "output_type": "stream",
     "text": [
      "country\n",
      "br\n",
      "country          brasil\n",
      "capital       brasillia\n",
      "area               8.15\n",
      "population        208.4\n",
      "Name: br, dtype: object\n",
      "ru\n",
      "country       russia\n",
      "capital       moscow\n",
      "area            17.1\n",
      "population     209.4\n",
      "Name: ru, dtype: object\n",
      "in\n",
      "country       india\n",
      "capital       delhi\n",
      "area          3.286\n",
      "population    200.1\n",
      "Name: in, dtype: object\n",
      "ch\n",
      "country         china\n",
      "capital       beijing\n",
      "area            9.567\n",
      "population      100.9\n",
      "Name: ch, dtype: object\n",
      "sa\n",
      "country       south africa\n",
      "capital           pretoria\n",
      "area                 1.122\n",
      "population           254.1\n",
      "Name: sa, dtype: object\n",
      "br brasillia\n",
      "ru moscow\n",
      "in delhi\n",
      "ch beijing\n",
      "sa pretoria\n",
      "         country    capital    area  population  name_length\n",
      "br        brasil  brasillia   8.150       208.4          6.0\n",
      "ru        russia     moscow  17.100       209.4          NaN\n",
      "in         india      delhi   3.286       200.1          NaN\n",
      "ch         china    beijing   9.567       100.9          NaN\n",
      "sa  south africa   pretoria   1.122       254.1          NaN\n",
      "         country    capital    area  population  name_length  name_length1\n",
      "br        brasil  brasillia   8.150       208.4          6.0             6\n",
      "ru        russia     moscow  17.100       209.4          NaN             6\n",
      "in         india      delhi   3.286       200.1          NaN             5\n",
      "ch         china    beijing   9.567       100.9          NaN             5\n",
      "sa  south africa   pretoria   1.122       254.1          NaN            12\n",
      "         country    capital    area  population  name_length  name_length1\n",
      "br        brasil  brasillia   8.150       208.4          6.0             6\n",
      "ru        russia     moscow  17.100       209.4          6.0             6\n",
      "in         india      delhi   3.286       200.1          NaN             5\n",
      "ch         china    beijing   9.567       100.9          NaN             5\n",
      "sa  south africa   pretoria   1.122       254.1          NaN            12\n",
      "         country    capital    area  population  name_length  name_length1\n",
      "br        brasil  brasillia   8.150       208.4          6.0             6\n",
      "ru        russia     moscow  17.100       209.4          6.0             6\n",
      "in         india      delhi   3.286       200.1          NaN             5\n",
      "ch         china    beijing   9.567       100.9          NaN             5\n",
      "sa  south africa   pretoria   1.122       254.1          NaN            12\n",
      "         country    capital    area  population  name_length  name_length1\n",
      "br        brasil  brasillia   8.150       208.4          6.0             6\n",
      "ru        russia     moscow  17.100       209.4          6.0             6\n",
      "in         india      delhi   3.286       200.1          5.0             5\n",
      "ch         china    beijing   9.567       100.9          NaN             5\n",
      "sa  south africa   pretoria   1.122       254.1          NaN            12\n",
      "         country    capital    area  population  name_length  name_length1\n",
      "br        brasil  brasillia   8.150       208.4          6.0             6\n",
      "ru        russia     moscow  17.100       209.4          6.0             6\n",
      "in         india      delhi   3.286       200.1          5.0             5\n",
      "ch         china    beijing   9.567       100.9          NaN             5\n",
      "sa  south africa   pretoria   1.122       254.1          NaN            12\n",
      "         country    capital    area  population  name_length  name_length1\n",
      "br        brasil  brasillia   8.150       208.4          6.0             6\n",
      "ru        russia     moscow  17.100       209.4          6.0             6\n",
      "in         india      delhi   3.286       200.1          5.0             5\n",
      "ch         china    beijing   9.567       100.9          5.0             5\n",
      "sa  south africa   pretoria   1.122       254.1          NaN            12\n",
      "         country    capital    area  population  name_length  name_length1\n",
      "br        brasil  brasillia   8.150       208.4          6.0             6\n",
      "ru        russia     moscow  17.100       209.4          6.0             6\n",
      "in         india      delhi   3.286       200.1          5.0             5\n",
      "ch         china    beijing   9.567       100.9          5.0             5\n",
      "sa  south africa   pretoria   1.122       254.1          NaN            12\n",
      "         country    capital    area  population  name_length  name_length1\n",
      "br        brasil  brasillia   8.150       208.4          6.0             6\n",
      "ru        russia     moscow  17.100       209.4          6.0             6\n",
      "in         india      delhi   3.286       200.1          5.0             5\n",
      "ch         china    beijing   9.567       100.9          5.0             5\n",
      "sa  south africa   pretoria   1.122       254.1         12.0            12\n",
      "         country    capital    area  population  name_length  name_length1\n",
      "br        brasil  brasillia   8.150       208.4          6.0             6\n",
      "ru        russia     moscow  17.100       209.4          6.0             6\n",
      "in         india      delhi   3.286       200.1          5.0             5\n",
      "ch         china    beijing   9.567       100.9          5.0             5\n",
      "sa  south africa   pretoria   1.122       254.1         12.0            12\n",
      "capital\n",
      "br\n",
      "country            brasil\n",
      "capital         brasillia\n",
      "area                 8.15\n",
      "population          208.4\n",
      "name_length             6\n",
      "name_length1            6\n",
      "Name: br, dtype: object\n",
      "ru\n",
      "country         russia\n",
      "capital         moscow\n",
      "area              17.1\n",
      "population       209.4\n",
      "name_length          6\n",
      "name_length1         6\n",
      "Name: ru, dtype: object\n",
      "in\n",
      "country         india\n",
      "capital         delhi\n",
      "area            3.286\n",
      "population      200.1\n",
      "name_length         5\n",
      "name_length1        5\n",
      "Name: in, dtype: object\n",
      "ch\n",
      "country           china\n",
      "capital         beijing\n",
      "area              9.567\n",
      "population        100.9\n",
      "name_length           5\n",
      "name_length1          5\n",
      "Name: ch, dtype: object\n",
      "sa\n",
      "country         south africa\n",
      "capital             pretoria\n",
      "area                   1.122\n",
      "population             254.1\n",
      "name_length               12\n",
      "name_length1              12\n",
      "Name: sa, dtype: object\n",
      "br brasillia\n",
      "ru moscow\n",
      "in delhi\n",
      "ch beijing\n",
      "sa pretoria\n",
      "         country    capital    area  population  name_length  name_length1\n",
      "br        brasil  brasillia   8.150       208.4          6.0             6\n",
      "ru        russia     moscow  17.100       209.4          6.0             6\n",
      "in         india      delhi   3.286       200.1          5.0             5\n",
      "ch         china    beijing   9.567       100.9          5.0             5\n",
      "sa  south africa   pretoria   1.122       254.1         12.0            12\n",
      "         country    capital    area  population  name_length  name_length1\n",
      "br        brasil  brasillia   8.150       208.4          6.0             6\n",
      "ru        russia     moscow  17.100       209.4          6.0             6\n",
      "in         india      delhi   3.286       200.1          5.0             5\n",
      "ch         china    beijing   9.567       100.9          5.0             5\n",
      "sa  south africa   pretoria   1.122       254.1         12.0            12\n",
      "         country    capital    area  population  name_length  name_length1\n",
      "br        brasil  brasillia   8.150       208.4          6.0             6\n",
      "ru        russia     moscow  17.100       209.4          6.0             6\n",
      "in         india      delhi   3.286       200.1          5.0             5\n",
      "ch         china    beijing   9.567       100.9          5.0             5\n",
      "sa  south africa   pretoria   1.122       254.1         12.0            12\n",
      "         country    capital    area  population  name_length  name_length1\n",
      "br        brasil  brasillia   8.150       208.4          6.0             6\n",
      "ru        russia     moscow  17.100       209.4          6.0             6\n",
      "in         india      delhi   3.286       200.1          5.0             5\n",
      "ch         china    beijing   9.567       100.9          5.0             5\n",
      "sa  south africa   pretoria   1.122       254.1         12.0            12\n",
      "         country    capital    area  population  name_length  name_length1\n",
      "br        brasil  brasillia   8.150       208.4          6.0             6\n",
      "ru        russia     moscow  17.100       209.4          6.0             6\n",
      "in         india      delhi   3.286       200.1          5.0             5\n",
      "ch         china    beijing   9.567       100.9          5.0             5\n",
      "sa  south africa   pretoria   1.122       254.1         12.0            12\n",
      "         country    capital    area  population  name_length  name_length1\n",
      "br        brasil  brasillia   8.150       208.4          6.0             6\n",
      "ru        russia     moscow  17.100       209.4          6.0             6\n",
      "in         india      delhi   3.286       200.1          5.0             5\n",
      "ch         china    beijing   9.567       100.9          5.0             5\n",
      "sa  south africa   pretoria   1.122       254.1         12.0            12\n",
      "         country    capital    area  population  name_length  name_length1\n",
      "br        brasil  brasillia   8.150       208.4          6.0             6\n",
      "ru        russia     moscow  17.100       209.4          6.0             6\n",
      "in         india      delhi   3.286       200.1          5.0             5\n",
      "ch         china    beijing   9.567       100.9          5.0             5\n",
      "sa  south africa   pretoria   1.122       254.1         12.0            12\n",
      "         country    capital    area  population  name_length  name_length1\n",
      "br        brasil  brasillia   8.150       208.4          6.0             6\n",
      "ru        russia     moscow  17.100       209.4          6.0             6\n",
      "in         india      delhi   3.286       200.1          5.0             5\n",
      "ch         china    beijing   9.567       100.9          5.0             5\n",
      "sa  south africa   pretoria   1.122       254.1         12.0            12\n",
      "         country    capital    area  population  name_length  name_length1\n",
      "br        brasil  brasillia   8.150       208.4          6.0             6\n",
      "ru        russia     moscow  17.100       209.4          6.0             6\n",
      "in         india      delhi   3.286       200.1          5.0             5\n",
      "ch         china    beijing   9.567       100.9          5.0             5\n",
      "sa  south africa   pretoria   1.122       254.1         12.0            12\n",
      "         country    capital    area  population  name_length  name_length1\n",
      "br        brasil  brasillia   8.150       208.4          6.0             6\n",
      "ru        russia     moscow  17.100       209.4          6.0             6\n",
      "in         india      delhi   3.286       200.1          5.0             5\n",
      "ch         china    beijing   9.567       100.9          5.0             5\n",
      "sa  south africa   pretoria   1.122       254.1         12.0            12\n",
      "area\n",
      "br\n",
      "country            brasil\n",
      "capital         brasillia\n",
      "area                 8.15\n",
      "population          208.4\n",
      "name_length             6\n",
      "name_length1            6\n",
      "Name: br, dtype: object\n",
      "ru\n",
      "country         russia\n",
      "capital         moscow\n",
      "area              17.1\n",
      "population       209.4\n",
      "name_length          6\n",
      "name_length1         6\n",
      "Name: ru, dtype: object\n",
      "in\n",
      "country         india\n",
      "capital         delhi\n",
      "area            3.286\n",
      "population      200.1\n",
      "name_length         5\n",
      "name_length1        5\n",
      "Name: in, dtype: object\n",
      "ch\n",
      "country           china\n",
      "capital         beijing\n",
      "area              9.567\n",
      "population        100.9\n",
      "name_length           5\n",
      "name_length1          5\n",
      "Name: ch, dtype: object\n",
      "sa\n",
      "country         south africa\n",
      "capital             pretoria\n",
      "area                   1.122\n",
      "population             254.1\n",
      "name_length               12\n",
      "name_length1              12\n",
      "Name: sa, dtype: object\n",
      "br brasillia\n",
      "ru moscow\n",
      "in delhi\n",
      "ch beijing\n",
      "sa pretoria\n",
      "         country    capital    area  population  name_length  name_length1\n",
      "br        brasil  brasillia   8.150       208.4          6.0             6\n",
      "ru        russia     moscow  17.100       209.4          6.0             6\n",
      "in         india      delhi   3.286       200.1          5.0             5\n",
      "ch         china    beijing   9.567       100.9          5.0             5\n",
      "sa  south africa   pretoria   1.122       254.1         12.0            12\n",
      "         country    capital    area  population  name_length  name_length1\n",
      "br        brasil  brasillia   8.150       208.4          6.0             6\n",
      "ru        russia     moscow  17.100       209.4          6.0             6\n",
      "in         india      delhi   3.286       200.1          5.0             5\n",
      "ch         china    beijing   9.567       100.9          5.0             5\n",
      "sa  south africa   pretoria   1.122       254.1         12.0            12\n",
      "         country    capital    area  population  name_length  name_length1\n",
      "br        brasil  brasillia   8.150       208.4          6.0             6\n",
      "ru        russia     moscow  17.100       209.4          6.0             6\n",
      "in         india      delhi   3.286       200.1          5.0             5\n",
      "ch         china    beijing   9.567       100.9          5.0             5\n",
      "sa  south africa   pretoria   1.122       254.1         12.0            12\n",
      "         country    capital    area  population  name_length  name_length1\n",
      "br        brasil  brasillia   8.150       208.4          6.0             6\n",
      "ru        russia     moscow  17.100       209.4          6.0             6\n",
      "in         india      delhi   3.286       200.1          5.0             5\n",
      "ch         china    beijing   9.567       100.9          5.0             5\n",
      "sa  south africa   pretoria   1.122       254.1         12.0            12\n",
      "         country    capital    area  population  name_length  name_length1\n",
      "br        brasil  brasillia   8.150       208.4          6.0             6\n",
      "ru        russia     moscow  17.100       209.4          6.0             6\n",
      "in         india      delhi   3.286       200.1          5.0             5\n",
      "ch         china    beijing   9.567       100.9          5.0             5\n",
      "sa  south africa   pretoria   1.122       254.1         12.0            12\n",
      "         country    capital    area  population  name_length  name_length1\n",
      "br        brasil  brasillia   8.150       208.4          6.0             6\n",
      "ru        russia     moscow  17.100       209.4          6.0             6\n",
      "in         india      delhi   3.286       200.1          5.0             5\n",
      "ch         china    beijing   9.567       100.9          5.0             5\n",
      "sa  south africa   pretoria   1.122       254.1         12.0            12\n",
      "         country    capital    area  population  name_length  name_length1\n",
      "br        brasil  brasillia   8.150       208.4          6.0             6\n",
      "ru        russia     moscow  17.100       209.4          6.0             6\n",
      "in         india      delhi   3.286       200.1          5.0             5\n",
      "ch         china    beijing   9.567       100.9          5.0             5\n",
      "sa  south africa   pretoria   1.122       254.1         12.0            12\n",
      "         country    capital    area  population  name_length  name_length1\n",
      "br        brasil  brasillia   8.150       208.4          6.0             6\n",
      "ru        russia     moscow  17.100       209.4          6.0             6\n",
      "in         india      delhi   3.286       200.1          5.0             5\n",
      "ch         china    beijing   9.567       100.9          5.0             5\n",
      "sa  south africa   pretoria   1.122       254.1         12.0            12\n",
      "         country    capital    area  population  name_length  name_length1\n",
      "br        brasil  brasillia   8.150       208.4          6.0             6\n",
      "ru        russia     moscow  17.100       209.4          6.0             6\n",
      "in         india      delhi   3.286       200.1          5.0             5\n",
      "ch         china    beijing   9.567       100.9          5.0             5\n",
      "sa  south africa   pretoria   1.122       254.1         12.0            12\n",
      "         country    capital    area  population  name_length  name_length1\n",
      "br        brasil  brasillia   8.150       208.4          6.0             6\n",
      "ru        russia     moscow  17.100       209.4          6.0             6\n",
      "in         india      delhi   3.286       200.1          5.0             5\n",
      "ch         china    beijing   9.567       100.9          5.0             5\n",
      "sa  south africa   pretoria   1.122       254.1         12.0            12\n",
      "population\n",
      "br\n",
      "country            brasil\n",
      "capital         brasillia\n",
      "area                 8.15\n",
      "population          208.4\n",
      "name_length             6\n",
      "name_length1            6\n",
      "Name: br, dtype: object\n",
      "ru\n",
      "country         russia\n",
      "capital         moscow\n",
      "area              17.1\n",
      "population       209.4\n",
      "name_length          6\n",
      "name_length1         6\n",
      "Name: ru, dtype: object\n",
      "in\n",
      "country         india\n",
      "capital         delhi\n",
      "area            3.286\n",
      "population      200.1\n",
      "name_length         5\n",
      "name_length1        5\n",
      "Name: in, dtype: object\n",
      "ch\n",
      "country           china\n",
      "capital         beijing\n",
      "area              9.567\n",
      "population        100.9\n",
      "name_length           5\n",
      "name_length1          5\n",
      "Name: ch, dtype: object\n",
      "sa\n",
      "country         south africa\n",
      "capital             pretoria\n",
      "area                   1.122\n",
      "population             254.1\n",
      "name_length               12\n",
      "name_length1              12\n",
      "Name: sa, dtype: object\n",
      "br brasillia\n",
      "ru moscow\n",
      "in delhi\n",
      "ch beijing\n",
      "sa pretoria\n",
      "         country    capital    area  population  name_length  name_length1\n",
      "br        brasil  brasillia   8.150       208.4          6.0             6\n",
      "ru        russia     moscow  17.100       209.4          6.0             6\n",
      "in         india      delhi   3.286       200.1          5.0             5\n",
      "ch         china    beijing   9.567       100.9          5.0             5\n",
      "sa  south africa   pretoria   1.122       254.1         12.0            12\n",
      "         country    capital    area  population  name_length  name_length1\n",
      "br        brasil  brasillia   8.150       208.4          6.0             6\n",
      "ru        russia     moscow  17.100       209.4          6.0             6\n",
      "in         india      delhi   3.286       200.1          5.0             5\n",
      "ch         china    beijing   9.567       100.9          5.0             5\n",
      "sa  south africa   pretoria   1.122       254.1         12.0            12\n",
      "         country    capital    area  population  name_length  name_length1\n",
      "br        brasil  brasillia   8.150       208.4          6.0             6\n",
      "ru        russia     moscow  17.100       209.4          6.0             6\n",
      "in         india      delhi   3.286       200.1          5.0             5\n",
      "ch         china    beijing   9.567       100.9          5.0             5\n",
      "sa  south africa   pretoria   1.122       254.1         12.0            12\n",
      "         country    capital    area  population  name_length  name_length1\n",
      "br        brasil  brasillia   8.150       208.4          6.0             6\n",
      "ru        russia     moscow  17.100       209.4          6.0             6\n",
      "in         india      delhi   3.286       200.1          5.0             5\n",
      "ch         china    beijing   9.567       100.9          5.0             5\n",
      "sa  south africa   pretoria   1.122       254.1         12.0            12\n",
      "         country    capital    area  population  name_length  name_length1\n",
      "br        brasil  brasillia   8.150       208.4          6.0             6\n",
      "ru        russia     moscow  17.100       209.4          6.0             6\n",
      "in         india      delhi   3.286       200.1          5.0             5\n",
      "ch         china    beijing   9.567       100.9          5.0             5\n",
      "sa  south africa   pretoria   1.122       254.1         12.0            12\n",
      "         country    capital    area  population  name_length  name_length1\n",
      "br        brasil  brasillia   8.150       208.4          6.0             6\n",
      "ru        russia     moscow  17.100       209.4          6.0             6\n",
      "in         india      delhi   3.286       200.1          5.0             5\n",
      "ch         china    beijing   9.567       100.9          5.0             5\n",
      "sa  south africa   pretoria   1.122       254.1         12.0            12\n",
      "         country    capital    area  population  name_length  name_length1\n",
      "br        brasil  brasillia   8.150       208.4          6.0             6\n",
      "ru        russia     moscow  17.100       209.4          6.0             6\n",
      "in         india      delhi   3.286       200.1          5.0             5\n",
      "ch         china    beijing   9.567       100.9          5.0             5\n",
      "sa  south africa   pretoria   1.122       254.1         12.0            12\n",
      "         country    capital    area  population  name_length  name_length1\n",
      "br        brasil  brasillia   8.150       208.4          6.0             6\n",
      "ru        russia     moscow  17.100       209.4          6.0             6\n",
      "in         india      delhi   3.286       200.1          5.0             5\n",
      "ch         china    beijing   9.567       100.9          5.0             5\n",
      "sa  south africa   pretoria   1.122       254.1         12.0            12\n",
      "         country    capital    area  population  name_length  name_length1\n",
      "br        brasil  brasillia   8.150       208.4          6.0             6\n",
      "ru        russia     moscow  17.100       209.4          6.0             6\n",
      "in         india      delhi   3.286       200.1          5.0             5\n",
      "ch         china    beijing   9.567       100.9          5.0             5\n",
      "sa  south africa   pretoria   1.122       254.1         12.0            12\n",
      "         country    capital    area  population  name_length  name_length1\n",
      "br        brasil  brasillia   8.150       208.4          6.0             6\n",
      "ru        russia     moscow  17.100       209.4          6.0             6\n",
      "in         india      delhi   3.286       200.1          5.0             5\n",
      "ch         china    beijing   9.567       100.9          5.0             5\n",
      "sa  south africa   pretoria   1.122       254.1         12.0            12\n"
     ]
    }
   ],
   "source": [
    "for val in brics:\n",
    "    print(val)\n",
    "    for lab,rows in brics.iterrows():\n",
    "        print(lab)\n",
    "        print(rows)\n",
    "        \n",
    "    for lab,rows in brics.iterrows():\n",
    "        print(lab+\" \"+rows[\"capital\"])\n",
    "    \n",
    "    for lab,rows in brics.iterrows():\n",
    "        brics.loc[lab,\"name_length\"] = len(rows[\"country\"])\n",
    "        print(brics)\n",
    "        brics[\"name_length1\"] = brics[\"country\"].apply(len)\n",
    "        print(brics)\n",
    "        \n",
    "    "
   ]
  },
  {
   "cell_type": "code",
   "execution_count": 11,
   "metadata": {},
   "outputs": [
    {
     "name": "stdout",
     "output_type": "stream",
     "text": [
      "br\n",
      "ru\n",
      "in\n",
      "ch\n",
      "sa\n"
     ]
    }
   ],
   "source": [
    "import pandas as pd\n",
    "brics=pd.read_csv(\"C:/Users/baras/Desktop/All in one/study/python/country.csv\",index_col=0)\n",
    "#for val in brics:\n",
    "    #print(val+\"*****\")\n",
    "for col,rows in brics.iterrows():\n",
    "    #print(lab)\n",
    "    #print(rows)\n",
    "    print(col)\n",
    "        \n",
    "    "
   ]
  },
  {
   "cell_type": "code",
   "execution_count": null,
   "metadata": {},
   "outputs": [],
   "source": []
  },
  {
   "cell_type": "code",
   "execution_count": 30,
   "metadata": {},
   "outputs": [
    {
     "name": "stdout",
     "output_type": "stream",
     "text": [
      "[90, 89, 60, 50, 40, 10]\n"
     ]
    }
   ],
   "source": [
    "first=[10,89,90]\n",
    "second=[50,60,40]\n",
    "\n",
    "full=first + second\n",
    "\n",
    "full_sorted=sorted(full,reverse=True)\n",
    "print(full_sorted)"
   ]
  },
  {
   "cell_type": "code",
   "execution_count": 31,
   "metadata": {},
   "outputs": [
    {
     "name": "stdout",
     "output_type": "stream",
     "text": [
      "100\n"
     ]
    }
   ],
   "source": [
    "def square(value):\n",
    "    print(value ** 2)\n",
    "square(10)"
   ]
  },
  {
   "cell_type": "code",
   "execution_count": null,
   "metadata": {},
   "outputs": [],
   "source": [
    "def square(value)\n",
    "    return value ** 2\n",
    "num=square(3)\n",
    "print(num)"
   ]
  },
  {
   "cell_type": "code",
   "execution_count": 36,
   "metadata": {},
   "outputs": [
    {
     "name": "stdout",
     "output_type": "stream",
     "text": [
      "<class 'tuple'>\n",
      "a2\n",
      "b4\n",
      "c6\n",
      "d8\n",
      "2\n"
     ]
    },
    {
     "ename": "TypeError",
     "evalue": "'tuple' object does not support item assignment",
     "output_type": "error",
     "traceback": [
      "\u001b[1;31m---------------------------------------------------------------------------\u001b[0m",
      "\u001b[1;31mTypeError\u001b[0m                                 Traceback (most recent call last)",
      "\u001b[1;32m<ipython-input-36-f2447db485c1>\u001b[0m in \u001b[0;36m<module>\u001b[1;34m\u001b[0m\n\u001b[0;32m      7\u001b[0m \u001b[0mprint\u001b[0m\u001b[1;33m(\u001b[0m\u001b[1;34m\"d\"\u001b[0m\u001b[1;33m+\u001b[0m\u001b[0mstr\u001b[0m\u001b[1;33m(\u001b[0m\u001b[0md\u001b[0m\u001b[1;33m)\u001b[0m\u001b[1;33m)\u001b[0m\u001b[1;33m\u001b[0m\u001b[1;33m\u001b[0m\u001b[0m\n\u001b[0;32m      8\u001b[0m \u001b[0mprint\u001b[0m\u001b[1;33m(\u001b[0m\u001b[0meven_nums\u001b[0m\u001b[1;33m[\u001b[0m\u001b[1;36m0\u001b[0m\u001b[1;33m]\u001b[0m\u001b[1;33m)\u001b[0m\u001b[1;33m\u001b[0m\u001b[1;33m\u001b[0m\u001b[0m\n\u001b[1;32m----> 9\u001b[1;33m \u001b[0meven_nums\u001b[0m\u001b[1;33m[\u001b[0m\u001b[1;36m0\u001b[0m\u001b[1;33m]\u001b[0m\u001b[1;33m=\u001b[0m\u001b[1;36m3\u001b[0m\u001b[1;33m\u001b[0m\u001b[1;33m\u001b[0m\u001b[0m\n\u001b[0m\u001b[0;32m     10\u001b[0m \u001b[0mprint\u001b[0m\u001b[1;33m(\u001b[0m\u001b[0meven_nums\u001b[0m\u001b[1;33m[\u001b[0m\u001b[1;36m0\u001b[0m\u001b[1;33m]\u001b[0m\u001b[1;33m)\u001b[0m\u001b[1;33m\u001b[0m\u001b[1;33m\u001b[0m\u001b[0m\n",
      "\u001b[1;31mTypeError\u001b[0m: 'tuple' object does not support item assignment"
     ]
    }
   ],
   "source": [
    "even_nums=(2,4,6,8,10)\n",
    "print(type(even_nums))\n",
    "a,b,c,d,e = even_nums\n",
    "print(\"a\"+str(a))\n",
    "print(\"b\"+str(b))\n",
    "print(\"c\"+str(c))\n",
    "print(\"d\"+str(d))\n",
    "print(even_nums[0])\n",
    "even_nums[0]=3\n",
    "print(even_nums[0])"
   ]
  },
  {
   "cell_type": "code",
   "execution_count": 37,
   "metadata": {},
   "outputs": [
    {
     "name": "stdout",
     "output_type": "stream",
     "text": [
      "(5, 6, 5)\n"
     ]
    }
   ],
   "source": [
    "def mod2plus5(x1,x2,x3):\n",
    "    def inner(x):\n",
    "        return x % 2 + 5\n",
    "    return (inner(x1),inner(x2),inner(x3))\n",
    "print(mod2plus5(2,3,4))"
   ]
  },
  {
   "cell_type": "code",
   "execution_count": 51,
   "metadata": {},
   "outputs": [
    {
     "name": "stdout",
     "output_type": "stream",
     "text": [
      "[10, 20, 40, 30, 10, 50]\n",
      "[10, 20, 40, 30, 10, 50, 60]\n",
      "[10, 20, 100, 40, 30, 10, 50, 60]\n",
      "[10, 20, 40, 30, 10, 50, 60]\n",
      "DATA SCIENCE\n",
      "data science\n",
      "DATA\n",
      "SCIENCE\n"
     ]
    }
   ],
   "source": [
    "list1=[10,20,40,30,10,50]\n",
    "\n",
    "list1.count(10)\n",
    "print(list1)\n",
    "list1.append(60)\n",
    "print(list1)\n",
    "list1.insert(2,100)\n",
    "print(list1)\n",
    "list1.remove(100)\n",
    "print(list1)\n",
    "\n",
    "list1=[\"data\",\"science\"]\n",
    "\n",
    "str1=\"data science\"\n",
    "print(str1.upper())\n",
    "str2=\"dAta SciEnce\"\n",
    "print(str1.lower())\n",
    "for lisst in list1:\n",
    "    print(lisst.upper())\n"
   ]
  },
  {
   "cell_type": "code",
   "execution_count": 23,
   "metadata": {},
   "outputs": [
    {
     "ename": "TypeError",
     "evalue": "array_split() missing 1 required positional argument: 'indices_or_sections'",
     "output_type": "error",
     "traceback": [
      "\u001b[1;31m---------------------------------------------------------------------------\u001b[0m",
      "\u001b[1;31mTypeError\u001b[0m                                 Traceback (most recent call last)",
      "\u001b[1;32m<ipython-input-23-eaf29648ec8c>\u001b[0m in \u001b[0;36m<module>\u001b[1;34m\u001b[0m\n\u001b[0;32m      4\u001b[0m \u001b[1;31m#print(arr)\u001b[0m\u001b[1;33m\u001b[0m\u001b[1;33m\u001b[0m\u001b[1;33m\u001b[0m\u001b[0m\n\u001b[0;32m      5\u001b[0m \u001b[1;32mfor\u001b[0m \u001b[0mi\u001b[0m \u001b[1;32min\u001b[0m \u001b[0mrange\u001b[0m\u001b[1;33m(\u001b[0m\u001b[0mlen\u001b[0m\u001b[1;33m(\u001b[0m\u001b[0mdemo1\u001b[0m\u001b[1;33m)\u001b[0m\u001b[1;33m)\u001b[0m\u001b[1;33m:\u001b[0m\u001b[1;33m\u001b[0m\u001b[1;33m\u001b[0m\u001b[0m\n\u001b[1;32m----> 6\u001b[1;33m         \u001b[0ma\u001b[0m\u001b[1;33m[\u001b[0m\u001b[0mi\u001b[0m\u001b[1;33m]\u001b[0m \u001b[1;33m=\u001b[0m \u001b[0mnp\u001b[0m\u001b[1;33m.\u001b[0m\u001b[0marray_split\u001b[0m\u001b[1;33m(\u001b[0m\u001b[0mdemo1\u001b[0m\u001b[1;33m[\u001b[0m\u001b[1;36m1\u001b[0m\u001b[1;33m]\u001b[0m\u001b[1;33m)\u001b[0m\u001b[1;33m\u001b[0m\u001b[1;33m\u001b[0m\u001b[0m\n\u001b[0m\u001b[0;32m      7\u001b[0m         \u001b[0mprint\u001b[0m\u001b[1;33m(\u001b[0m\u001b[0ma\u001b[0m\u001b[1;33m[\u001b[0m\u001b[0mi\u001b[0m\u001b[1;33m]\u001b[0m\u001b[1;33m)\u001b[0m\u001b[1;33m\u001b[0m\u001b[1;33m\u001b[0m\u001b[0m\n\u001b[0;32m      8\u001b[0m \u001b[1;33m\u001b[0m\u001b[0m\n",
      "\u001b[1;31mTypeError\u001b[0m: array_split() missing 1 required positional argument: 'indices_or_sections'"
     ]
    }
   ],
   "source": [
    "import numpy as np\n",
    "demo1=[1,2,4,3]\n",
    "arr= np.array(demo1)\n",
    "#print(arr)\n",
    "for i in range(len(demo1)):\n",
    "        a[i] = np.array_split(demo1[1])\n",
    "        print(a[i])\n",
    "\n"
   ]
  },
  {
   "cell_type": "code",
   "execution_count": 45,
   "metadata": {},
   "outputs": [
    {
     "name": "stdout",
     "output_type": "stream",
     "text": [
      "Addition 17 subtraction 1\n",
      "Addition 17\n",
      "1\n"
     ]
    }
   ],
   "source": [
    "def calculate(x,y):\n",
    "    sum = x + y\n",
    "    if (x > y):\n",
    "         sub=x-y\n",
    "    else:\n",
    "        sub=y-x\n",
    "    print(\"Addition \"+ str(sum)+\" subtraction \"+str(sub))\n",
    "    print(\"Addition\", sum)\n",
    "    return sub\n",
    "total=calculate(8,9)\n",
    "print(total)"
   ]
  },
  {
   "cell_type": "code",
   "execution_count": 54,
   "metadata": {},
   "outputs": [
    {
     "name": "stdout",
     "output_type": "stream",
     "text": [
      "[10 20 30 40 50]\n"
     ]
    }
   ],
   "source": [
    "import numpy as np\n",
    "def show():\n",
    "    list1=[10,20,30,40,50]\n",
    "    ary=np.array(list1)\n",
    "    print(ary)\n",
    "show()"
   ]
  },
  {
   "cell_type": "code",
   "execution_count": 4,
   "metadata": {},
   "outputs": [
    {
     "name": "stdout",
     "output_type": "stream",
     "text": [
      "please enter an integer: 99\n",
      "x is greater than 20\n"
     ]
    }
   ],
   "source": [
    "x=int(input(\"please enter an integer: \"))\n",
    "if x < 0:\n",
    "    print(\"x is negative number\")\n",
    "elif x > 10 and x<20:\n",
    "    print(\"x is greater than 10 but less than 20\")\n",
    "else:\n",
    "    print(\"x is greater than 20\")\n"
   ]
  },
  {
   "cell_type": "code",
   "execution_count": 5,
   "metadata": {},
   "outputs": [
    {
     "name": "stdout",
     "output_type": "stream",
     "text": [
      "cat 3\n",
      "window 6\n",
      "defenestrate 12\n"
     ]
    }
   ],
   "source": [
    "words = ['cat', 'window', 'defenestrate']\n",
    "for w in words:\n",
    "    print(w, len(w))"
   ]
  },
  {
   "cell_type": "code",
   "execution_count": 7,
   "metadata": {},
   "outputs": [
    {
     "ename": "NameError",
     "evalue": "name 'users' is not defined",
     "output_type": "error",
     "traceback": [
      "\u001b[1;31m---------------------------------------------------------------------------\u001b[0m",
      "\u001b[1;31mNameError\u001b[0m                                 Traceback (most recent call last)",
      "\u001b[1;32m<ipython-input-7-458c26d9a5fa>\u001b[0m in \u001b[0;36m<module>\u001b[1;34m\u001b[0m\n\u001b[0;32m      1\u001b[0m \u001b[1;31m# Strategy: Iterate over a copy\u001b[0m\u001b[1;33m\u001b[0m\u001b[1;33m\u001b[0m\u001b[1;33m\u001b[0m\u001b[0m\n\u001b[1;32m----> 2\u001b[1;33m \u001b[1;32mfor\u001b[0m \u001b[0muser\u001b[0m\u001b[1;33m,\u001b[0m \u001b[0mstatus\u001b[0m \u001b[1;32min\u001b[0m \u001b[0musers\u001b[0m\u001b[1;33m.\u001b[0m\u001b[0mcopy\u001b[0m\u001b[1;33m(\u001b[0m\u001b[1;33m)\u001b[0m\u001b[1;33m.\u001b[0m\u001b[0mitems\u001b[0m\u001b[1;33m(\u001b[0m\u001b[1;33m)\u001b[0m\u001b[1;33m:\u001b[0m\u001b[1;33m\u001b[0m\u001b[1;33m\u001b[0m\u001b[0m\n\u001b[0m\u001b[0;32m      3\u001b[0m     \u001b[1;32mif\u001b[0m \u001b[0mstatus\u001b[0m \u001b[1;33m==\u001b[0m \u001b[1;34m'inactive'\u001b[0m\u001b[1;33m:\u001b[0m\u001b[1;33m\u001b[0m\u001b[1;33m\u001b[0m\u001b[0m\n\u001b[0;32m      4\u001b[0m         \u001b[1;32mdel\u001b[0m \u001b[0musers\u001b[0m\u001b[1;33m[\u001b[0m\u001b[0muser\u001b[0m\u001b[1;33m]\u001b[0m\u001b[1;33m\u001b[0m\u001b[1;33m\u001b[0m\u001b[0m\n\u001b[0;32m      5\u001b[0m \u001b[1;31m# Strategy: Create a new collection\u001b[0m\u001b[1;33m\u001b[0m\u001b[1;33m\u001b[0m\u001b[1;33m\u001b[0m\u001b[0m\n",
      "\u001b[1;31mNameError\u001b[0m: name 'users' is not defined"
     ]
    }
   ],
   "source": [
    "# Strategy: Iterate over a copy\n",
    "for user, status in users.copy().items():\n",
    "    if status == 'inactive':\n",
    "        del users[user]\n",
    "# Strategy: Create a new collection\n",
    "active_users = {}\n",
    "for user, status in users.items():\n",
    "    if status == 'active':\n",
    "        active_users[user] = status"
   ]
  },
  {
   "cell_type": "code",
   "execution_count": 16,
   "metadata": {},
   "outputs": [
    {
     "data": {
      "text/plain": [
       "[200, 100, 80, 70, 60, 50, 30, 20, 10]"
      ]
     },
     "execution_count": 16,
     "metadata": {},
     "output_type": "execute_result"
    }
   ],
   "source": [
    "a_list=[10,20,30,40,50,60,70,80]\n",
    "a_list.count(10)\n",
    "a_list.append(100)\n",
    "a_list\n",
    "a_list.insert(3,200)\n",
    "a_list.remove(40)\n",
    "a_list.sort()\n",
    "a_list.reverse()\n",
    "a_list\n",
    "\n"
   ]
  },
  {
   "cell_type": "code",
   "execution_count": 3,
   "metadata": {},
   "outputs": [
    {
     "name": "stdout",
     "output_type": "stream",
     "text": [
      "4\n"
     ]
    }
   ],
   "source": [
    "from a_module1 import square\n",
    "print(square(2))"
   ]
  },
  {
   "cell_type": "code",
   "execution_count": 7,
   "metadata": {},
   "outputs": [
    {
     "name": "stdout",
     "output_type": "stream",
     "text": [
      "1 1 2 \n"
     ]
    },
    {
     "data": {
      "text/plain": [
       "[1, 1, 2]"
      ]
     },
     "execution_count": 7,
     "metadata": {},
     "output_type": "execute_result"
    }
   ],
   "source": [
    "import Python_packages.arithmatic as arth\n",
    "arth.add(1,2)\n",
    "\n",
    "import Python_packages.my_fibo as fibo\n",
    "fibo.fib(3)\n",
    "fibo.fib2(3)"
   ]
  },
  {
   "cell_type": "code",
   "execution_count": 19,
   "metadata": {},
   "outputs": [
    {
     "name": "stdout",
     "output_type": "stream",
     "text": [
      "1\n",
      "1.34\n",
      "<class 'dict'>\n",
      "<built-in method keys of dict object at 0x0000020A22A789A8>\n",
      "1\n",
      "1.34\n",
      "<class 'dict'>\n",
      "<built-in method values of dict object at 0x0000020A22A789F8>\n",
      "1.34\n",
      "{'china': 1.38, 'India': 1.34, 'USA': 0.32}\n",
      "True\n",
      "{'china': 1.38, 'India': 1.34, 'USA': 0.32, 'indonesia': 0.26, 'Brasil': 0.21}\n",
      "{'china': 1.38, 'India': 1.34, 'USA': 0.32, 'indonesia': 0.26}\n",
      "{'china': {'capital': 'Beijing', 'population': 1.7}, 'India': {'capital': 'delhi', 'population': 1.8}}\n",
      "{'china': {'capital': 'Beijing', 'population': 1.7}, 'India': {'capital': 'delhi', 'population': 1.8}, 'italy': {'capital': 'rome', 'population': 59.89}}\n",
      "       country  drivers_right  average\n",
      "US          US           True      809\n",
      "UK          UK          False      465\n",
      "AUS  Australia           True      342\n",
      "JP       Japan           True      123\n",
      "INR      India          False       56\n",
      "RUS     Russia           True       43\n",
      "MOR    Moracco          False       98\n",
      "EGY      Egypt           True       34\n"
     ]
    }
   ],
   "source": [
    "pop_billions=[1.38,1.34,0.32]\n",
    "countries=[\"china\",\"india\",\"USA\"]\n",
    "india_pop=countries.index(\"india\")\n",
    "print(india_pop)\n",
    "print(pop_billions[india_pop])\n",
    "\n",
    "world={\"china\":1.38,\"India\":1.34,\"USA\":0.32}\n",
    "print(type(world))\n",
    "print(world.keys)\n",
    "pop_billions=[1.38,1.34,0.32]\n",
    "countries=[\"china\",\"india\",\"USA\"]\n",
    "india_pop=countries.index(\"india\")\n",
    "print(india_pop)\n",
    "print(pop_billions[india_pop])\n",
    "\n",
    "#dictionary\n",
    "world={\"china\":1.38,\"India\":1.34,\"USA\":0.32}\n",
    "print(type(world))\n",
    "print(world.values)\n",
    "print(world[\"India\"])\n",
    "\n",
    "print(world)\n",
    "world[\"indonesia\"]=0.26\n",
    "world[\"Brasil\"]=0.21\n",
    "\n",
    "print('indonesia' in world)\n",
    "print(world)\n",
    "\n",
    "del(world[\"Brasil\"])\n",
    "print(world)\n",
    "\n",
    "\n",
    "world={\"china\":{'capital':'Beijing','population':1.7},\n",
    "       \"India\":{'capital':'delhi','population':1.8}}\n",
    "print(world)\n",
    "\n",
    "data = {'capital':'rome','population':59.89}\n",
    "world['italy']= data\n",
    "print(world)\n",
    "\n",
    "\n",
    "\n",
    "country_names=['US','UK','Australia','Japan','India','Russia','Moracco','Egypt']\n",
    "drivers_right=[True,False,True,True,False,True,False,True]\n",
    "cars_avg_per_10000=[809,465,342,123,56,43,98,34]\n",
    "\n",
    "import pandas as pd\n",
    "\n",
    "my_dict = {'country':country_names,\n",
    "           'drivers_right':drivers_right,\n",
    "           'average':cars_avg_per_10000\n",
    "    }\n",
    "\n",
    "cars = pd.DataFrame(my_dict)\n",
    "\n",
    "row_labels = ['US','UK','AUS','JP','INR','RUS','MOR','EGY']\n",
    "cars.index= row_labels\n",
    "\n",
    "print(cars)"
   ]
  },
  {
   "cell_type": "code",
   "execution_count": 1,
   "metadata": {},
   "outputs": [
    {
     "ename": "SyntaxError",
     "evalue": "invalid syntax (<ipython-input-1-28c1dae55144>, line 1)",
     "output_type": "error",
     "traceback": [
      "\u001b[1;36m  File \u001b[1;32m\"<ipython-input-1-28c1dae55144>\"\u001b[1;36m, line \u001b[1;32m1\u001b[0m\n\u001b[1;33m    while True print(\"hello\")\u001b[0m\n\u001b[1;37m                   ^\u001b[0m\n\u001b[1;31mSyntaxError\u001b[0m\u001b[1;31m:\u001b[0m invalid syntax\n"
     ]
    }
   ],
   "source": [
    "while True print(\"hello\")\n",
    "    \n",
    "for i in \"python\":\n",
    "    print(i)\n",
    "    \n",
    "#print(\"hello world\")\n"
   ]
  },
  {
   "cell_type": "code",
   "execution_count": 2,
   "metadata": {},
   "outputs": [
    {
     "name": "stdout",
     "output_type": "stream",
     "text": [
      "****** execution with integer*********\n",
      "3.0\n",
      "****** execution with integer*********\n",
      "x must be an integer or float\n"
     ]
    }
   ],
   "source": [
    "def sqrt(x):\n",
    "    try:\n",
    "        print(x ** 0.5)\n",
    "    except:\n",
    "        print(\"x must be an integer or float\")\n",
    "\n",
    "print(\"****** execution with integer*********\")\n",
    "\n",
    "sqrt(9)\n",
    "print(\"****** execution with integer*********\")\n",
    "sqrt(\"x\")"
   ]
  },
  {
   "cell_type": "code",
   "execution_count": 3,
   "metadata": {},
   "outputs": [
    {
     "name": "stdout",
     "output_type": "stream",
     "text": [
      "****** execution with integer*********\n",
      "3.0\n"
     ]
    }
   ],
   "source": [
    "def sqrt(x):\n",
    "    try:\n",
    "        print(x ** 0.5)\n",
    "    except:\n",
    "        print(\"x must be an integer or float\")\n",
    "\n",
    "print(\"****** execution with integer*********\")\n",
    "\n",
    "sqrt(9)\n",
    "#print(\"****** execution with integer*********\")\n",
    "#sqrt(\"x\")"
   ]
  },
  {
   "cell_type": "code",
   "execution_count": 2,
   "metadata": {},
   "outputs": [
    {
     "ename": "ValueError",
     "evalue": "x must be greater than 0",
     "output_type": "error",
     "traceback": [
      "\u001b[1;31m---------------------------------------------------------------------------\u001b[0m",
      "\u001b[1;31mValueError\u001b[0m                                Traceback (most recent call last)",
      "\u001b[1;32m<ipython-input-2-62258aab4737>\u001b[0m in \u001b[0;36m<module>\u001b[1;34m\u001b[0m\n\u001b[0;32m      4\u001b[0m         \u001b[1;32mraise\u001b[0m \u001b[0mValueError\u001b[0m\u001b[1;33m(\u001b[0m\u001b[1;34m\"x must be greater than 0\"\u001b[0m\u001b[1;33m)\u001b[0m\u001b[1;33m\u001b[0m\u001b[1;33m\u001b[0m\u001b[0m\n\u001b[0;32m      5\u001b[0m \u001b[1;33m\u001b[0m\u001b[0m\n\u001b[1;32m----> 6\u001b[1;33m \u001b[0msqrt\u001b[0m\u001b[1;33m(\u001b[0m\u001b[1;33m-\u001b[0m\u001b[1;36m1\u001b[0m\u001b[1;33m)\u001b[0m\u001b[1;33m\u001b[0m\u001b[1;33m\u001b[0m\u001b[0m\n\u001b[0m",
      "\u001b[1;32m<ipython-input-2-62258aab4737>\u001b[0m in \u001b[0;36msqrt\u001b[1;34m(x)\u001b[0m\n\u001b[0;32m      2\u001b[0m \u001b[1;33m\u001b[0m\u001b[0m\n\u001b[0;32m      3\u001b[0m     \u001b[1;32mif\u001b[0m \u001b[0mx\u001b[0m\u001b[1;33m<\u001b[0m \u001b[1;36m0\u001b[0m\u001b[1;33m:\u001b[0m\u001b[1;33m\u001b[0m\u001b[1;33m\u001b[0m\u001b[0m\n\u001b[1;32m----> 4\u001b[1;33m         \u001b[1;32mraise\u001b[0m \u001b[0mValueError\u001b[0m\u001b[1;33m(\u001b[0m\u001b[1;34m\"x must be greater than 0\"\u001b[0m\u001b[1;33m)\u001b[0m\u001b[1;33m\u001b[0m\u001b[1;33m\u001b[0m\u001b[0m\n\u001b[0m\u001b[0;32m      5\u001b[0m \u001b[1;33m\u001b[0m\u001b[0m\n\u001b[0;32m      6\u001b[0m \u001b[0msqrt\u001b[0m\u001b[1;33m(\u001b[0m\u001b[1;33m-\u001b[0m\u001b[1;36m1\u001b[0m\u001b[1;33m)\u001b[0m\u001b[1;33m\u001b[0m\u001b[1;33m\u001b[0m\u001b[0m\n",
      "\u001b[1;31mValueError\u001b[0m: x must be greater than 0"
     ]
    }
   ],
   "source": [
    "def sqrt(x):\n",
    "    \n",
    "    if x< 0:\n",
    "        raise ValueError(\"x must be greater than 0\")\n",
    "        \n",
    "sqrt(-1)"
   ]
  },
  {
   "cell_type": "code",
   "execution_count": 4,
   "metadata": {},
   "outputs": [
    {
     "data": {
      "image/png": "[encoded data removed]",
      "text/plain": [
       "<Figure size 432x288 with 1 Axes>"
      ]
     },
     "metadata": {
      "needs_background": "light"
     },
     "output_type": "display_data"
    }
   ],
   "source": [
    "import matplotlib.pyplot as plt\n",
    "year=[1950,1960,1970,1980]\n",
    "pop=[2.519,2.70,3.09,3.50]\n",
    "\n",
    "plt.plot(year,pop)\n",
    "plt.title(\"year wise population\")\n",
    "plt.xlabel(\"Year\")\n",
    "plt.ylabel(\"population\")\n",
    "tick_val=[1950,1960,1970,1980]\n",
    "tick_lab=['1950year','1960year','1970year','1980year']\n",
    "\n",
    "plt.xticks(tick_val,tick_lab)\n",
    "\n",
    "plt.yticks([2,3,4,5,6,7],['2B','3B','4B','5B','6B','7B'])\n",
    "\n",
    "plt.show()"
   ]
  },
  {
   "cell_type": "code",
   "execution_count": 7,
   "metadata": {},
   "outputs": [
    {
     "data": {
      "image/png": "[encoded data removed]",
      "text/plain": [
       "<Figure size 432x288 with 1 Axes>"
      ]
     },
     "metadata": {
      "needs_background": "light"
     },
     "output_type": "display_data"
    }
   ],
   "source": [
    "#import matplotlib.pyplot as plt\n",
    "\n",
    "import numpy as np\n",
    "year=[1950,1960,1970,1980]\n",
    "pop=[2.519,2.70,3.09,3.50]\n",
    "\n",
    "np_pop=np.array(pop)\n",
    "#np_pop=np_pop*20\n",
    "plt.scatter(year,pop,s=np_pop*20)\n",
    "plt.xlabel('year')\n",
    "plt.ylabel('population')\n",
    "plt.title('year wise population')\n",
    "plt.text(1950,2.519,\"India\")\n",
    "plt.show()"
   ]
  },
  {
   "cell_type": "code",
   "execution_count": 13,
   "metadata": {},
   "outputs": [
    {
     "data": {
      "image/png": "[encoded data removed]",
      "text/plain": [
       "<Figure size 432x288 with 1 Axes>"
      ]
     },
     "metadata": {
      "needs_background": "light"
     },
     "output_type": "display_data"
    },
    {
     "data": {
      "text/plain": [
       "<Figure size 432x288 with 0 Axes>"
      ]
     },
     "metadata": {},
     "output_type": "display_data"
    }
   ],
   "source": [
    "#import matplotlib.pyplot as plt\n",
    "\n",
    "#import numpy as np\n",
    "values=[2,3,5,7,11,13,17,19,23,29,31,37,41,43,47,53,59,61,67,71,73,79,83,89,97]\n",
    "\n",
    "plt.hist(values)\n",
    "plt.show()\n",
    "plt.clf()\n",
    "# plt.hist(values)\n",
    "# plt.show()\n",
    "# plt.clf()\n"
   ]
  }
 ],
 "metadata": {
  "kernelspec": {
   "display_name": "Python 3",
   "language": "python",
   "name": "python3"
  },
  "language_info": {
   "codemirror_mode": {
    "name": "ipython",
    "version": 3
   },
   "file_extension": ".py",
   "mimetype": "text/x-python",
   "name": "python",
   "nbconvert_exporter": "python",
   "pygments_lexer": "ipython3",
   "version": "3.7.4"
  }
 },
 "nbformat": 4,
 "nbformat_minor": 2
}
