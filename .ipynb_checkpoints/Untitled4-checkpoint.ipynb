{
 "cells": [
  {
   "cell_type": "code",
   "execution_count": 26,
   "metadata": {},
   "outputs": [
    {
     "name": "stdout",
     "output_type": "stream",
     "text": [
      "Title: Own Goal\n",
      "Year: 2000–2001\n",
      "Rated: N/A\n",
      "Released: N/A\n",
      "Runtime: 5 min\n",
      "Genre: Drama\n",
      "Director: N/A\n",
      "Writer: N/A\n",
      "Actors: Penny Capper\n",
      "Plot: The story centres on a group of kids who stumble across a ticket scam at Elland Road football ground and traces their efforts to convince the adults around them of what they have unearthed.\n",
      "Language: English\n",
      "Country: UK\n",
      "Awards: N/A\n",
      "Poster: N/A\n",
      "Ratings: []\n",
      "Metascore: N/A\n",
      "imdbRating: N/A\n",
      "imdbVotes: N/A\n",
      "imdbID: tt0825936\n",
      "Type: series\n",
      "totalSeasons: N/A\n",
      "Response: True\n",
      "Title: Toy Story\n",
      "Year: 1995\n",
      "Rated: G\n",
      "Released: 22 Nov 1995\n",
      "Runtime: 81 min\n",
      "Genre: Animation, Adventure, Comedy, Family, Fantasy\n",
      "Director: John Lasseter\n",
      "Writer: John Lasseter (original story by), Pete Docter (original story by), Andrew Stanton (original story by), Joe Ranft (original story by), Joss Whedon (screenplay by), Andrew Stanton (screenplay by), Joel Cohen (screenplay by), Alec Sokolow (screenplay by)\n",
      "Actors: Tom Hanks, Tim Allen, Don Rickles, Jim Varney\n",
      "Plot: A cowboy doll is profoundly threatened and jealous when a new spaceman figure supplants him as top toy in a boy's room.\n",
      "Language: English\n",
      "Country: USA\n",
      "Awards: Nominated for 3 Oscars. Another 23 wins & 17 nominations.\n",
      "Poster: https://m.media-amazon.com/images/M/MV5BMDU2ZWJlMjktMTRhMy00ZTA5LWEzNDgtYmNmZTEwZTViZWJkXkEyXkFqcGdeQXVyNDQ2OTk4MzI@._V1_SX300.jpg\n",
      "Ratings: [{'Source': 'Internet Movie Database', 'Value': '8.3/10'}, {'Source': 'Rotten Tomatoes', 'Value': '100%'}, {'Source': 'Metacritic', 'Value': '95/100'}]\n",
      "Metascore: 95\n",
      "imdbRating: 8.3\n",
      "imdbVotes: 825,214\n",
      "imdbID: tt0114709\n",
      "Type: movie\n",
      "DVD: 20 Mar 2001\n",
      "BoxOffice: N/A\n",
      "Production: Buena Vista\n",
      "Website: N/A\n",
      "Response: True\n",
      "Title: Spider Man\n",
      "Year: 1978–1979\n",
      "Rated: TV-PG\n",
      "Released: 17 May 1978\n",
      "Runtime: 30 min\n",
      "Genre: Action, Adventure, Family, Sci-Fi\n",
      "Director: N/A\n",
      "Writer: Steve Ditko, Stan Lee\n",
      "Actors: Shinji Tôdô, Mitsuo Andô, Yukie Kagawa, Hirofumi Koga\n",
      "Plot: To fight against the evil Iron Cross Army, led by the space emperor Professor Monster, a daredevil motorcyclist transforms into the famous Marvel Superhero, with a racecar and giant ...\n",
      "Language: Japanese\n",
      "Country: Japan\n",
      "Awards: N/A\n",
      "Poster: https://m.media-amazon.com/images/M/MV5BM2EwYzA2YjMtNDdhYi00OTI1LWE2ODUtOWViODk4YjRjNzVmXkEyXkFqcGdeQXVyNTAyODkwOQ@@._V1_SX300.jpg\n",
      "Ratings: [{'Source': 'Internet Movie Database', 'Value': '6.2/10'}]\n",
      "Metascore: N/A\n",
      "imdbRating: 6.2\n",
      "imdbVotes: 321\n",
      "imdbID: tt0185116\n",
      "Type: series\n",
      "totalSeasons: 1\n",
      "Response: True\n"
     ]
    }
   ],
   "source": [
    "import requests\n",
    "#import pandas as pd\n",
    "\n",
    "#file_json=pd.json(\"movies.JSON\")\n",
    "\n",
    "import json\n",
    "\n",
    "with open('movies.JSON') as json_file:\n",
    "    data = json.load(json_file)\n",
    "#     print(data)\n",
    "    for p in data['movies']:\n",
    "        url=\"http://www.omdbapi.com/?t=\"+p['Title']+\"&y=\"+p['Year']+\"&apikey=9aaa0aa\"\n",
    "        r=requests.get(url)\n",
    "#         print(r.text)\n",
    "        json_data = r.json()\n",
    "        for k in json_data.keys():\n",
    "            print(k+':',json_data[k])"
   ]
  },
  {
   "cell_type": "code",
   "execution_count": 36,
   "metadata": {},
   "outputs": [
    {
     "name": "stdout",
     "output_type": "stream",
     "text": [
      "<Response [200]>\n",
      "{'Response': 'False', 'Error': 'Something went wrong.'}\n"
     ]
    }
   ],
   "source": [
    "import requests\n",
    "url=\"http://www.omdbapi.com/?y=2012&apikey=9aaa0aa\"\n",
    "r=requests.get(url)\n",
    "print(r)\n",
    "json_data = r.json()\n",
    "print(json_data)\n",
    "# for k in json_data.keys():\n",
    "#     print(k+':',json_data[k])"
   ]
  },
  {
   "cell_type": "code",
   "execution_count": 40,
   "metadata": {},
   "outputs": [
    {
     "ename": "IndentationError",
     "evalue": "unexpected indent (<ipython-input-40-afc31613f7fb>, line 4)",
     "output_type": "error",
     "traceback": [
      "\u001b[1;36m  File \u001b[1;32m\"<ipython-input-40-afc31613f7fb>\"\u001b[1;36m, line \u001b[1;32m4\u001b[0m\n\u001b[1;33m    for movie in movie_file['movies']:\u001b[0m\n\u001b[1;37m    ^\u001b[0m\n\u001b[1;31mIndentationError\u001b[0m\u001b[1;31m:\u001b[0m unexpected indent\n"
     ]
    }
   ],
   "source": [
    "import requests\n",
    "import pandas as pd\n",
    "movie_file=pd.read_json(\"movies.json\",\"r\")\n",
    "    for p in data['movies']:\n",
    "        url=\"http://www.omdbapi.com/?t=\"+p['Title']+\"&y=\"+p['Year']+\"&apikey=9aaa0aa\"\n",
    "        r=requests.get(url)\n",
    "        json_data=r.json()\n",
    "        datata={}\n",
    "        for k in json_data.keys():\n",
    "            datata[k]=json_data[k]\n",
    "        file = open(\"movie_details.json\",\"a\")\n",
    "        file.write(str(datata))\n",
    "        file.close()\n",
    "        "
   ]
  }
 ],
 "metadata": {
  "kernelspec": {
   "display_name": "Python 3",
   "language": "python",
   "name": "python3"
  },
  "language_info": {
   "codemirror_mode": {
    "name": "ipython",
    "version": 3
   },
   "file_extension": ".py",
   "mimetype": "text/x-python",
   "name": "python",
   "nbconvert_exporter": "python",
   "pygments_lexer": "ipython3",
   "version": "3.7.4"
  }
 },
 "nbformat": 4,
 "nbformat_minor": 2
}
